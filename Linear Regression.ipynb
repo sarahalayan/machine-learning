{
  "nbformat": 4,
  "nbformat_minor": 0,
  "metadata": {
    "colab": {
      "provenance": [],
      "authorship_tag": "ABX9TyNR5Tbx2Ia5eJPQIhdX4kBy",
      "include_colab_link": true
    },
    "kernelspec": {
      "name": "python3",
      "display_name": "Python 3"
    },
    "language_info": {
      "name": "python"
    }
  },
  "cells": [
    {
      "cell_type": "markdown",
      "metadata": {
        "id": "view-in-github",
        "colab_type": "text"
      },
      "source": [
        "<a href=\"https://colab.research.google.com/github/sarahalayan/machine-learning/blob/main/ass1_ML.ipynb\" target=\"_parent\"><img src=\"https://colab.research.google.com/assets/colab-badge.svg\" alt=\"Open In Colab\"/></a>"
      ]
    },
    {
      "cell_type": "code",
      "execution_count": 1,
      "metadata": {
        "id": "Mh6Fn5u3dFVZ"
      },
      "outputs": [],
      "source": [
        "import numpy as np\n",
        "import pandas as pd\n",
        "import matplotlib.pyplot as plt\n"
      ]
    },
    {
      "cell_type": "code",
      "source": [
        "datapath='/income_data.csv'\n",
        "income=pd.read_csv(datapath)\n",
        "income.shape"
      ],
      "metadata": {
        "colab": {
          "base_uri": "https://localhost:8080/"
        },
        "id": "eDVXozJJdd3b",
        "outputId": "4769fd7d-f960-4440-8520-d2aa1c1bf6e7"
      },
      "execution_count": 3,
      "outputs": [
        {
          "output_type": "execute_result",
          "data": {
            "text/plain": [
              "(498, 2)"
            ]
          },
          "metadata": {},
          "execution_count": 3
        }
      ]
    },
    {
      "cell_type": "code",
      "source": [
        "from google.colab import drive\n",
        "drive.mount('/content/drive')"
      ],
      "metadata": {
        "id": "qmE4wKAFWjAq"
      },
      "execution_count": null,
      "outputs": []
    },
    {
      "cell_type": "code",
      "source": [
        "income.head()"
      ],
      "metadata": {
        "colab": {
          "base_uri": "https://localhost:8080/",
          "height": 206
        },
        "id": "1SC-Ty3JeRml",
        "outputId": "2a7d2f9f-29f3-4f38-ef23-af6afefca59b"
      },
      "execution_count": 4,
      "outputs": [
        {
          "output_type": "execute_result",
          "data": {
            "text/plain": [
              "     income  happiness\n",
              "0  3.862647   2.314489\n",
              "1  4.979381   3.433490\n",
              "2  4.923957   4.599373\n",
              "3  3.214372   2.791114\n",
              "4  7.196409   5.596398"
            ],
            "text/html": [
              "\n",
              "  <div id=\"df-aa9d0977-ce97-4bb7-9566-1a19fd3bfc9d\" class=\"colab-df-container\">\n",
              "    <div>\n",
              "<style scoped>\n",
              "    .dataframe tbody tr th:only-of-type {\n",
              "        vertical-align: middle;\n",
              "    }\n",
              "\n",
              "    .dataframe tbody tr th {\n",
              "        vertical-align: top;\n",
              "    }\n",
              "\n",
              "    .dataframe thead th {\n",
              "        text-align: right;\n",
              "    }\n",
              "</style>\n",
              "<table border=\"1\" class=\"dataframe\">\n",
              "  <thead>\n",
              "    <tr style=\"text-align: right;\">\n",
              "      <th></th>\n",
              "      <th>income</th>\n",
              "      <th>happiness</th>\n",
              "    </tr>\n",
              "  </thead>\n",
              "  <tbody>\n",
              "    <tr>\n",
              "      <th>0</th>\n",
              "      <td>3.862647</td>\n",
              "      <td>2.314489</td>\n",
              "    </tr>\n",
              "    <tr>\n",
              "      <th>1</th>\n",
              "      <td>4.979381</td>\n",
              "      <td>3.433490</td>\n",
              "    </tr>\n",
              "    <tr>\n",
              "      <th>2</th>\n",
              "      <td>4.923957</td>\n",
              "      <td>4.599373</td>\n",
              "    </tr>\n",
              "    <tr>\n",
              "      <th>3</th>\n",
              "      <td>3.214372</td>\n",
              "      <td>2.791114</td>\n",
              "    </tr>\n",
              "    <tr>\n",
              "      <th>4</th>\n",
              "      <td>7.196409</td>\n",
              "      <td>5.596398</td>\n",
              "    </tr>\n",
              "  </tbody>\n",
              "</table>\n",
              "</div>\n",
              "    <div class=\"colab-df-buttons\">\n",
              "\n",
              "  <div class=\"colab-df-container\">\n",
              "    <button class=\"colab-df-convert\" onclick=\"convertToInteractive('df-aa9d0977-ce97-4bb7-9566-1a19fd3bfc9d')\"\n",
              "            title=\"Convert this dataframe to an interactive table.\"\n",
              "            style=\"display:none;\">\n",
              "\n",
              "  <svg xmlns=\"http://www.w3.org/2000/svg\" height=\"24px\" viewBox=\"0 -960 960 960\">\n",
              "    <path d=\"M120-120v-720h720v720H120Zm60-500h600v-160H180v160Zm220 220h160v-160H400v160Zm0 220h160v-160H400v160ZM180-400h160v-160H180v160Zm440 0h160v-160H620v160ZM180-180h160v-160H180v160Zm440 0h160v-160H620v160Z\"/>\n",
              "  </svg>\n",
              "    </button>\n",
              "\n",
              "  <style>\n",
              "    .colab-df-container {\n",
              "      display:flex;\n",
              "      gap: 12px;\n",
              "    }\n",
              "\n",
              "    .colab-df-convert {\n",
              "      background-color: #E8F0FE;\n",
              "      border: none;\n",
              "      border-radius: 50%;\n",
              "      cursor: pointer;\n",
              "      display: none;\n",
              "      fill: #1967D2;\n",
              "      height: 32px;\n",
              "      padding: 0 0 0 0;\n",
              "      width: 32px;\n",
              "    }\n",
              "\n",
              "    .colab-df-convert:hover {\n",
              "      background-color: #E2EBFA;\n",
              "      box-shadow: 0px 1px 2px rgba(60, 64, 67, 0.3), 0px 1px 3px 1px rgba(60, 64, 67, 0.15);\n",
              "      fill: #174EA6;\n",
              "    }\n",
              "\n",
              "    .colab-df-buttons div {\n",
              "      margin-bottom: 4px;\n",
              "    }\n",
              "\n",
              "    [theme=dark] .colab-df-convert {\n",
              "      background-color: #3B4455;\n",
              "      fill: #D2E3FC;\n",
              "    }\n",
              "\n",
              "    [theme=dark] .colab-df-convert:hover {\n",
              "      background-color: #434B5C;\n",
              "      box-shadow: 0px 1px 3px 1px rgba(0, 0, 0, 0.15);\n",
              "      filter: drop-shadow(0px 1px 2px rgba(0, 0, 0, 0.3));\n",
              "      fill: #FFFFFF;\n",
              "    }\n",
              "  </style>\n",
              "\n",
              "    <script>\n",
              "      const buttonEl =\n",
              "        document.querySelector('#df-aa9d0977-ce97-4bb7-9566-1a19fd3bfc9d button.colab-df-convert');\n",
              "      buttonEl.style.display =\n",
              "        google.colab.kernel.accessAllowed ? 'block' : 'none';\n",
              "\n",
              "      async function convertToInteractive(key) {\n",
              "        const element = document.querySelector('#df-aa9d0977-ce97-4bb7-9566-1a19fd3bfc9d');\n",
              "        const dataTable =\n",
              "          await google.colab.kernel.invokeFunction('convertToInteractive',\n",
              "                                                    [key], {});\n",
              "        if (!dataTable) return;\n",
              "\n",
              "        const docLinkHtml = 'Like what you see? Visit the ' +\n",
              "          '<a target=\"_blank\" href=https://colab.research.google.com/notebooks/data_table.ipynb>data table notebook</a>'\n",
              "          + ' to learn more about interactive tables.';\n",
              "        element.innerHTML = '';\n",
              "        dataTable['output_type'] = 'display_data';\n",
              "        await google.colab.output.renderOutput(dataTable, element);\n",
              "        const docLink = document.createElement('div');\n",
              "        docLink.innerHTML = docLinkHtml;\n",
              "        element.appendChild(docLink);\n",
              "      }\n",
              "    </script>\n",
              "  </div>\n",
              "\n",
              "\n",
              "<div id=\"df-948fa2ca-5c86-447f-93db-702debcf9d76\">\n",
              "  <button class=\"colab-df-quickchart\" onclick=\"quickchart('df-948fa2ca-5c86-447f-93db-702debcf9d76')\"\n",
              "            title=\"Suggest charts\"\n",
              "            style=\"display:none;\">\n",
              "\n",
              "<svg xmlns=\"http://www.w3.org/2000/svg\" height=\"24px\"viewBox=\"0 0 24 24\"\n",
              "     width=\"24px\">\n",
              "    <g>\n",
              "        <path d=\"M19 3H5c-1.1 0-2 .9-2 2v14c0 1.1.9 2 2 2h14c1.1 0 2-.9 2-2V5c0-1.1-.9-2-2-2zM9 17H7v-7h2v7zm4 0h-2V7h2v10zm4 0h-2v-4h2v4z\"/>\n",
              "    </g>\n",
              "</svg>\n",
              "  </button>\n",
              "\n",
              "<style>\n",
              "  .colab-df-quickchart {\n",
              "      --bg-color: #E8F0FE;\n",
              "      --fill-color: #1967D2;\n",
              "      --hover-bg-color: #E2EBFA;\n",
              "      --hover-fill-color: #174EA6;\n",
              "      --disabled-fill-color: #AAA;\n",
              "      --disabled-bg-color: #DDD;\n",
              "  }\n",
              "\n",
              "  [theme=dark] .colab-df-quickchart {\n",
              "      --bg-color: #3B4455;\n",
              "      --fill-color: #D2E3FC;\n",
              "      --hover-bg-color: #434B5C;\n",
              "      --hover-fill-color: #FFFFFF;\n",
              "      --disabled-bg-color: #3B4455;\n",
              "      --disabled-fill-color: #666;\n",
              "  }\n",
              "\n",
              "  .colab-df-quickchart {\n",
              "    background-color: var(--bg-color);\n",
              "    border: none;\n",
              "    border-radius: 50%;\n",
              "    cursor: pointer;\n",
              "    display: none;\n",
              "    fill: var(--fill-color);\n",
              "    height: 32px;\n",
              "    padding: 0;\n",
              "    width: 32px;\n",
              "  }\n",
              "\n",
              "  .colab-df-quickchart:hover {\n",
              "    background-color: var(--hover-bg-color);\n",
              "    box-shadow: 0 1px 2px rgba(60, 64, 67, 0.3), 0 1px 3px 1px rgba(60, 64, 67, 0.15);\n",
              "    fill: var(--button-hover-fill-color);\n",
              "  }\n",
              "\n",
              "  .colab-df-quickchart-complete:disabled,\n",
              "  .colab-df-quickchart-complete:disabled:hover {\n",
              "    background-color: var(--disabled-bg-color);\n",
              "    fill: var(--disabled-fill-color);\n",
              "    box-shadow: none;\n",
              "  }\n",
              "\n",
              "  .colab-df-spinner {\n",
              "    border: 2px solid var(--fill-color);\n",
              "    border-color: transparent;\n",
              "    border-bottom-color: var(--fill-color);\n",
              "    animation:\n",
              "      spin 1s steps(1) infinite;\n",
              "  }\n",
              "\n",
              "  @keyframes spin {\n",
              "    0% {\n",
              "      border-color: transparent;\n",
              "      border-bottom-color: var(--fill-color);\n",
              "      border-left-color: var(--fill-color);\n",
              "    }\n",
              "    20% {\n",
              "      border-color: transparent;\n",
              "      border-left-color: var(--fill-color);\n",
              "      border-top-color: var(--fill-color);\n",
              "    }\n",
              "    30% {\n",
              "      border-color: transparent;\n",
              "      border-left-color: var(--fill-color);\n",
              "      border-top-color: var(--fill-color);\n",
              "      border-right-color: var(--fill-color);\n",
              "    }\n",
              "    40% {\n",
              "      border-color: transparent;\n",
              "      border-right-color: var(--fill-color);\n",
              "      border-top-color: var(--fill-color);\n",
              "    }\n",
              "    60% {\n",
              "      border-color: transparent;\n",
              "      border-right-color: var(--fill-color);\n",
              "    }\n",
              "    80% {\n",
              "      border-color: transparent;\n",
              "      border-right-color: var(--fill-color);\n",
              "      border-bottom-color: var(--fill-color);\n",
              "    }\n",
              "    90% {\n",
              "      border-color: transparent;\n",
              "      border-bottom-color: var(--fill-color);\n",
              "    }\n",
              "  }\n",
              "</style>\n",
              "\n",
              "  <script>\n",
              "    async function quickchart(key) {\n",
              "      const quickchartButtonEl =\n",
              "        document.querySelector('#' + key + ' button');\n",
              "      quickchartButtonEl.disabled = true;  // To prevent multiple clicks.\n",
              "      quickchartButtonEl.classList.add('colab-df-spinner');\n",
              "      try {\n",
              "        const charts = await google.colab.kernel.invokeFunction(\n",
              "            'suggestCharts', [key], {});\n",
              "      } catch (error) {\n",
              "        console.error('Error during call to suggestCharts:', error);\n",
              "      }\n",
              "      quickchartButtonEl.classList.remove('colab-df-spinner');\n",
              "      quickchartButtonEl.classList.add('colab-df-quickchart-complete');\n",
              "    }\n",
              "    (() => {\n",
              "      let quickchartButtonEl =\n",
              "        document.querySelector('#df-948fa2ca-5c86-447f-93db-702debcf9d76 button');\n",
              "      quickchartButtonEl.style.display =\n",
              "        google.colab.kernel.accessAllowed ? 'block' : 'none';\n",
              "    })();\n",
              "  </script>\n",
              "</div>\n",
              "\n",
              "    </div>\n",
              "  </div>\n"
            ]
          },
          "metadata": {},
          "execution_count": 4
        }
      ]
    },
    {
      "cell_type": "markdown",
      "source": [],
      "metadata": {
        "id": "oDP0sJ-5fmjm"
      }
    },
    {
      "cell_type": "code",
      "source": [
        "X = income.iloc[:, 0].values # Select YearsExperience Column as X\n",
        "y = income.iloc[:, 1].values # Select Salary Column as label y"
      ],
      "metadata": {
        "id": "Wqr48Z6Ie1nQ"
      },
      "execution_count": 5,
      "outputs": []
    },
    {
      "cell_type": "code",
      "source": [
        "print(X.shape)"
      ],
      "metadata": {
        "colab": {
          "base_uri": "https://localhost:8080/"
        },
        "id": "-uBwPqLrXGa5",
        "outputId": "46e10443-118c-47e1-f138-75e3e008569e"
      },
      "execution_count": 6,
      "outputs": [
        {
          "output_type": "stream",
          "name": "stdout",
          "text": [
            "(498,)\n"
          ]
        }
      ]
    },
    {
      "cell_type": "code",
      "source": [
        "from sklearn.model_selection import train_test_split\n",
        "\n",
        "X_train, X_test, y_train, y_test = train_test_split(X, y, test_size=0.2, random_state=42)"
      ],
      "metadata": {
        "id": "vHKdIstyfN2T"
      },
      "execution_count": 7,
      "outputs": []
    },
    {
      "cell_type": "code",
      "source": [
        "X_train.shape"
      ],
      "metadata": {
        "colab": {
          "base_uri": "https://localhost:8080/"
        },
        "id": "KtfScsAJXeDa",
        "outputId": "f7899de3-e532-4220-dba3-3c1771a99ad6"
      },
      "execution_count": 8,
      "outputs": [
        {
          "output_type": "execute_result",
          "data": {
            "text/plain": [
              "(398,)"
            ]
          },
          "metadata": {},
          "execution_count": 8
        }
      ]
    },
    {
      "cell_type": "code",
      "source": [
        "X_test.shape"
      ],
      "metadata": {
        "colab": {
          "base_uri": "https://localhost:8080/"
        },
        "id": "HTATDySnXj2A",
        "outputId": "82520af0-e09e-422e-c1a9-9f588e5efbfd"
      },
      "execution_count": 9,
      "outputs": [
        {
          "output_type": "execute_result",
          "data": {
            "text/plain": [
              "(100,)"
            ]
          },
          "metadata": {},
          "execution_count": 9
        }
      ]
    },
    {
      "cell_type": "code",
      "source": [
        "from sklearn.linear_model import LinearRegression\n",
        "model=LinearRegression()\n",
        "X_train = X_train.reshape(-1, 1)\n",
        "y_train=y_train.reshape(-1,1)\n",
        "model.fit(X_train,y_train)"
      ],
      "metadata": {
        "colab": {
          "base_uri": "https://localhost:8080/",
          "height": 74
        },
        "id": "BA0I8fxBftEn",
        "outputId": "e543d994-a066-4555-a28e-bb9659e5d436"
      },
      "execution_count": 11,
      "outputs": [
        {
          "output_type": "execute_result",
          "data": {
            "text/plain": [
              "LinearRegression()"
            ],
            "text/html": [
              "<style>#sk-container-id-1 {color: black;background-color: white;}#sk-container-id-1 pre{padding: 0;}#sk-container-id-1 div.sk-toggleable {background-color: white;}#sk-container-id-1 label.sk-toggleable__label {cursor: pointer;display: block;width: 100%;margin-bottom: 0;padding: 0.3em;box-sizing: border-box;text-align: center;}#sk-container-id-1 label.sk-toggleable__label-arrow:before {content: \"▸\";float: left;margin-right: 0.25em;color: #696969;}#sk-container-id-1 label.sk-toggleable__label-arrow:hover:before {color: black;}#sk-container-id-1 div.sk-estimator:hover label.sk-toggleable__label-arrow:before {color: black;}#sk-container-id-1 div.sk-toggleable__content {max-height: 0;max-width: 0;overflow: hidden;text-align: left;background-color: #f0f8ff;}#sk-container-id-1 div.sk-toggleable__content pre {margin: 0.2em;color: black;border-radius: 0.25em;background-color: #f0f8ff;}#sk-container-id-1 input.sk-toggleable__control:checked~div.sk-toggleable__content {max-height: 200px;max-width: 100%;overflow: auto;}#sk-container-id-1 input.sk-toggleable__control:checked~label.sk-toggleable__label-arrow:before {content: \"▾\";}#sk-container-id-1 div.sk-estimator input.sk-toggleable__control:checked~label.sk-toggleable__label {background-color: #d4ebff;}#sk-container-id-1 div.sk-label input.sk-toggleable__control:checked~label.sk-toggleable__label {background-color: #d4ebff;}#sk-container-id-1 input.sk-hidden--visually {border: 0;clip: rect(1px 1px 1px 1px);clip: rect(1px, 1px, 1px, 1px);height: 1px;margin: -1px;overflow: hidden;padding: 0;position: absolute;width: 1px;}#sk-container-id-1 div.sk-estimator {font-family: monospace;background-color: #f0f8ff;border: 1px dotted black;border-radius: 0.25em;box-sizing: border-box;margin-bottom: 0.5em;}#sk-container-id-1 div.sk-estimator:hover {background-color: #d4ebff;}#sk-container-id-1 div.sk-parallel-item::after {content: \"\";width: 100%;border-bottom: 1px solid gray;flex-grow: 1;}#sk-container-id-1 div.sk-label:hover label.sk-toggleable__label {background-color: #d4ebff;}#sk-container-id-1 div.sk-serial::before {content: \"\";position: absolute;border-left: 1px solid gray;box-sizing: border-box;top: 0;bottom: 0;left: 50%;z-index: 0;}#sk-container-id-1 div.sk-serial {display: flex;flex-direction: column;align-items: center;background-color: white;padding-right: 0.2em;padding-left: 0.2em;position: relative;}#sk-container-id-1 div.sk-item {position: relative;z-index: 1;}#sk-container-id-1 div.sk-parallel {display: flex;align-items: stretch;justify-content: center;background-color: white;position: relative;}#sk-container-id-1 div.sk-item::before, #sk-container-id-1 div.sk-parallel-item::before {content: \"\";position: absolute;border-left: 1px solid gray;box-sizing: border-box;top: 0;bottom: 0;left: 50%;z-index: -1;}#sk-container-id-1 div.sk-parallel-item {display: flex;flex-direction: column;z-index: 1;position: relative;background-color: white;}#sk-container-id-1 div.sk-parallel-item:first-child::after {align-self: flex-end;width: 50%;}#sk-container-id-1 div.sk-parallel-item:last-child::after {align-self: flex-start;width: 50%;}#sk-container-id-1 div.sk-parallel-item:only-child::after {width: 0;}#sk-container-id-1 div.sk-dashed-wrapped {border: 1px dashed gray;margin: 0 0.4em 0.5em 0.4em;box-sizing: border-box;padding-bottom: 0.4em;background-color: white;}#sk-container-id-1 div.sk-label label {font-family: monospace;font-weight: bold;display: inline-block;line-height: 1.2em;}#sk-container-id-1 div.sk-label-container {text-align: center;}#sk-container-id-1 div.sk-container {/* jupyter's `normalize.less` sets `[hidden] { display: none; }` but bootstrap.min.css set `[hidden] { display: none !important; }` so we also need the `!important` here to be able to override the default hidden behavior on the sphinx rendered scikit-learn.org. See: https://github.com/scikit-learn/scikit-learn/issues/21755 */display: inline-block !important;position: relative;}#sk-container-id-1 div.sk-text-repr-fallback {display: none;}</style><div id=\"sk-container-id-1\" class=\"sk-top-container\"><div class=\"sk-text-repr-fallback\"><pre>LinearRegression()</pre><b>In a Jupyter environment, please rerun this cell to show the HTML representation or trust the notebook. <br />On GitHub, the HTML representation is unable to render, please try loading this page with nbviewer.org.</b></div><div class=\"sk-container\" hidden><div class=\"sk-item\"><div class=\"sk-estimator sk-toggleable\"><input class=\"sk-toggleable__control sk-hidden--visually\" id=\"sk-estimator-id-1\" type=\"checkbox\" checked><label for=\"sk-estimator-id-1\" class=\"sk-toggleable__label sk-toggleable__label-arrow\">LinearRegression</label><div class=\"sk-toggleable__content\"><pre>LinearRegression()</pre></div></div></div></div></div>"
            ]
          },
          "metadata": {},
          "execution_count": 11
        }
      ]
    },
    {
      "cell_type": "code",
      "source": [
        "# Checking the optimal values of the parameters w and b of the equation y = w*x + b to get the lowest cost function\n",
        "print(f'The value of w = {model.coef_[0][0]}')\n",
        "print(f'The value of b = {model.intercept_[0]}')\n",
        "print(f' The equation of the line is y = {model.coef_[0][0]} * X + {model.intercept_[0]}')\n",
        "\n",
        "y_test = pd.DataFrame(y_test)\n",
        "y_test = y_test.to_numpy().reshape(-1, 1)\n",
        "predictions=model.predict(X_test.reshape(-1, 1))"
      ],
      "metadata": {
        "colab": {
          "base_uri": "https://localhost:8080/"
        },
        "id": "xV7RIXDdiEN_",
        "outputId": "9c5ada40-f34b-4f6c-fbc1-4be720f1f520"
      },
      "execution_count": 12,
      "outputs": [
        {
          "output_type": "stream",
          "name": "stdout",
          "text": [
            "The value of w = 0.7247687016076183\n",
            "The value of b = 0.14170387227353531\n",
            " The equation of the line is y = 0.7247687016076183 * X + 0.14170387227353531\n"
          ]
        }
      ]
    },
    {
      "cell_type": "code",
      "source": [
        "print(y_test)"
      ],
      "metadata": {
        "colab": {
          "base_uri": "https://localhost:8080/"
        },
        "id": "pC1T5nUMYdL7",
        "outputId": "9a39f699-04a7-4fbc-f347-a7810fc40b6b"
      },
      "execution_count": 13,
      "outputs": [
        {
          "output_type": "stream",
          "name": "stdout",
          "text": [
            "[[4.75416839]\n",
            " [4.1596093 ]\n",
            " [2.29570014]\n",
            " [2.31155424]\n",
            " [2.86127444]\n",
            " [1.96563593]\n",
            " [4.57080113]\n",
            " [4.00453774]\n",
            " [1.46061633]\n",
            " [3.73794161]\n",
            " [4.83350643]\n",
            " [3.05738784]\n",
            " [3.06760945]\n",
            " [2.78424454]\n",
            " [2.15584332]\n",
            " [2.96216821]\n",
            " [2.23344058]\n",
            " [6.29910126]\n",
            " [1.83980201]\n",
            " [2.96195666]\n",
            " [2.33627603]\n",
            " [4.2452156 ]\n",
            " [2.11513648]\n",
            " [1.30848726]\n",
            " [4.71966533]\n",
            " [0.77128657]\n",
            " [2.67988732]\n",
            " [4.98525493]\n",
            " [3.80429886]\n",
            " [4.8266027 ]\n",
            " [0.69845996]\n",
            " [3.04079729]\n",
            " [2.39167752]\n",
            " [4.5993734 ]\n",
            " [3.73056996]\n",
            " [3.70343793]\n",
            " [0.96852733]\n",
            " [3.45310274]\n",
            " [1.41666106]\n",
            " [1.41022957]\n",
            " [5.83619666]\n",
            " [4.3284171 ]\n",
            " [5.9142477 ]\n",
            " [5.3139569 ]\n",
            " [2.31448898]\n",
            " [2.00904646]\n",
            " [2.57505486]\n",
            " [3.02072445]\n",
            " [2.20098217]\n",
            " [0.26604366]\n",
            " [3.98112774]\n",
            " [3.22747217]\n",
            " [5.26547896]\n",
            " [4.93304409]\n",
            " [2.66611603]\n",
            " [4.30728842]\n",
            " [3.99041589]\n",
            " [4.56870456]\n",
            " [5.68375056]\n",
            " [3.94101932]\n",
            " [4.32466038]\n",
            " [1.92757883]\n",
            " [5.15933124]\n",
            " [4.08382116]\n",
            " [2.45320906]\n",
            " [4.68281699]\n",
            " [4.28430556]\n",
            " [4.0564931 ]\n",
            " [2.41338175]\n",
            " [4.72098734]\n",
            " [4.63344105]\n",
            " [2.94753147]\n",
            " [1.77593255]\n",
            " [2.20824052]\n",
            " [0.54836519]\n",
            " [4.21269734]\n",
            " [4.25831153]\n",
            " [5.03400379]\n",
            " [3.58387516]\n",
            " [4.3213643 ]\n",
            " [3.87278885]\n",
            " [2.96732327]\n",
            " [2.57693996]\n",
            " [3.3427494 ]\n",
            " [2.77968263]\n",
            " [2.39322812]\n",
            " [4.51696059]\n",
            " [4.55321655]\n",
            " [2.25372152]\n",
            " [2.19274486]\n",
            " [3.96063637]\n",
            " [5.95098633]\n",
            " [5.06874788]\n",
            " [4.70820299]\n",
            " [2.89858314]\n",
            " [3.42772316]\n",
            " [3.83557765]\n",
            " [2.58472902]\n",
            " [2.84286835]\n",
            " [4.93925896]]\n"
          ]
        }
      ]
    },
    {
      "cell_type": "code",
      "source": [
        "print(predictions)"
      ],
      "metadata": {
        "colab": {
          "base_uri": "https://localhost:8080/"
        },
        "id": "F-oKHxfxYhgm",
        "outputId": "5f25eaf9-d027-4d69-b590-da4e8f90c609"
      },
      "execution_count": 14,
      "outputs": [
        {
          "output_type": "stream",
          "name": "stdout",
          "text": [
            "[[3.21752987]\n",
            " [2.21792257]\n",
            " [3.20280332]\n",
            " [1.79020704]\n",
            " [1.74394749]\n",
            " [2.39018719]\n",
            " [4.44664262]\n",
            " [4.86010664]\n",
            " [1.89050708]\n",
            " [3.50456863]\n",
            " [4.09833273]\n",
            " [2.4318678 ]\n",
            " [2.85594355]\n",
            " [3.54519132]\n",
            " [2.78796716]\n",
            " [1.80768864]\n",
            " [2.52124048]\n",
            " [5.16673969]\n",
            " [2.45094439]\n",
            " [3.996441  ]\n",
            " [1.83486036]\n",
            " [2.72998006]\n",
            " [2.63135811]\n",
            " [1.23340488]\n",
            " [4.61112137]\n",
            " [1.72884986]\n",
            " [2.46409207]\n",
            " [5.3782968 ]\n",
            " [4.21884267]\n",
            " [4.12789401]\n",
            " [1.34529138]\n",
            " [3.72063824]\n",
            " [2.83545189]\n",
            " [3.71043375]\n",
            " [4.0008309 ]\n",
            " [4.01012804]\n",
            " [1.2713695 ]\n",
            " [2.47646914]\n",
            " [1.31859325]\n",
            " [2.24910091]\n",
            " [5.35598486]\n",
            " [4.42244764]\n",
            " [5.0893214 ]\n",
            " [4.83614181]\n",
            " [2.94122983]\n",
            " [2.15161714]\n",
            " [1.6263909 ]\n",
            " [3.1687238 ]\n",
            " [2.67722482]\n",
            " [1.46401227]\n",
            " [4.0291672 ]\n",
            " [2.98869745]\n",
            " [5.14038236]\n",
            " [3.7164133 ]\n",
            " [3.58847209]\n",
            " [3.3425148 ]\n",
            " [3.54804131]\n",
            " [3.94616611]\n",
            " [4.93059286]\n",
            " [3.81954393]\n",
            " [4.89818897]\n",
            " [1.55970378]\n",
            " [5.09603988]\n",
            " [2.34495858]\n",
            " [2.2134292 ]\n",
            " [5.38998089]\n",
            " [4.72238072]\n",
            " [3.7692388 ]\n",
            " [2.40771063]\n",
            " [5.32646295]\n",
            " [4.52828042]\n",
            " [3.42736682]\n",
            " [3.04261746]\n",
            " [3.07258943]\n",
            " [1.94085637]\n",
            " [3.12886027]\n",
            " [5.11336675]\n",
            " [5.38052427]\n",
            " [2.69307466]\n",
            " [4.2524758 ]\n",
            " [4.26288758]\n",
            " [1.61430179]\n",
            " [2.70763229]\n",
            " [3.93796482]\n",
            " [3.18066442]\n",
            " [1.73248554]\n",
            " [3.64552379]\n",
            " [4.26950719]\n",
            " [2.98446615]\n",
            " [2.04751707]\n",
            " [4.48640398]\n",
            " [3.56200774]\n",
            " [4.84109238]\n",
            " [5.16197444]\n",
            " [1.99650716]\n",
            " [4.46426615]\n",
            " [3.65778436]\n",
            " [1.58709201]\n",
            " [3.62084278]\n",
            " [4.67172729]]\n"
          ]
        }
      ]
    },
    {
      "cell_type": "code",
      "source": [
        "plt.scatter(X_train, y_train, color = 'red')\n",
        "plt.plot(X_test, predictions, color = 'blue')\n",
        "plt.title('happiness vs income (Training set)')\n",
        "plt.xlabel('income')\n",
        "plt.ylabel('happiness')\n",
        "plt.show()"
      ],
      "metadata": {
        "colab": {
          "base_uri": "https://localhost:8080/",
          "height": 472
        },
        "id": "bomou3HYiv9b",
        "outputId": "1503f754-3b0d-43b2-b888-159d77730a27"
      },
      "execution_count": 15,
      "outputs": [
        {
          "output_type": "display_data",
          "data": {
            "text/plain": [
              "<Figure size 640x480 with 1 Axes>"
            ],
            "image/png": "[encoded data removed]"
          },
          "metadata": {}
        }
      ]
    },
    {
      "cell_type": "code",
      "source": [
        "plt.scatter(X_test, y_test, color = 'red')\n",
        "plt.plot(X_test, predictions, color = 'blue')\n",
        "plt.title('happiness vs income (Test set)')\n",
        "plt.xlabel('income')\n",
        "plt.ylabel('happiness')\n",
        "plt.show()"
      ],
      "metadata": {
        "colab": {
          "base_uri": "https://localhost:8080/",
          "height": 472
        },
        "id": "XQ3354wclcp5",
        "outputId": "1d00ae3c-700e-4ccc-bfd2-8a353d1f610d"
      },
      "execution_count": 16,
      "outputs": [
        {
          "output_type": "display_data",
          "data": {
            "text/plain": [
              "<Figure size 640x480 with 1 Axes>"
            ],
            "image/png": "[encoded data removed]"
          },
          "metadata": {}
        }
      ]
    }
  ]
}
